{
 "cells": [
  {
   "cell_type": "code",
   "execution_count": 11,
   "metadata": {
    "collapsed": true
   },
   "outputs": [],
   "source": [
    "#001 Import the numpy package under the name np\n",
    "import numpy as np"
   ]
  },
  {
   "cell_type": "code",
   "execution_count": 12,
   "metadata": {},
   "outputs": [
    {
     "name": "stdout",
     "output_type": "stream",
     "text": [
      "('2:\\n', '1.12.1')\n",
      "lapack_opt_info:\n",
      "    extra_link_args = ['-Wl,-framework', '-Wl,Accelerate']\n",
      "    extra_compile_args = ['-msse3']\n",
      "    define_macros = [('NO_ATLAS_INFO', 3), ('HAVE_CBLAS', None)]\n",
      "openblas_lapack_info:\n",
      "  NOT AVAILABLE\n",
      "atlas_3_10_blas_threads_info:\n",
      "  NOT AVAILABLE\n",
      "atlas_threads_info:\n",
      "  NOT AVAILABLE\n",
      "atlas_3_10_threads_info:\n",
      "  NOT AVAILABLE\n",
      "atlas_blas_info:\n",
      "  NOT AVAILABLE\n",
      "atlas_3_10_blas_info:\n",
      "  NOT AVAILABLE\n",
      "atlas_blas_threads_info:\n",
      "  NOT AVAILABLE\n",
      "openblas_info:\n",
      "  NOT AVAILABLE\n",
      "blas_mkl_info:\n",
      "  NOT AVAILABLE\n",
      "blas_opt_info:\n",
      "    extra_link_args = ['-Wl,-framework', '-Wl,Accelerate']\n",
      "    extra_compile_args = ['-msse3', '-I/System/Library/Frameworks/vecLib.framework/Headers']\n",
      "    define_macros = [('NO_ATLAS_INFO', 3), ('HAVE_CBLAS', None)]\n",
      "blis_info:\n",
      "  NOT AVAILABLE\n",
      "atlas_info:\n",
      "  NOT AVAILABLE\n",
      "atlas_3_10_info:\n",
      "  NOT AVAILABLE\n",
      "lapack_mkl_info:\n",
      "  NOT AVAILABLE\n"
     ]
    }
   ],
   "source": [
    "#002 Print the numpy version and the configuration\n",
    "print(\"2:\\n\",np.__version__)\n",
    "np.show_config()"
   ]
  },
  {
   "cell_type": "code",
   "execution_count": 14,
   "metadata": {},
   "outputs": [
    {
     "name": "stdout",
     "output_type": "stream",
     "text": [
      "('3:\\n', array([ 0.,  0.,  0.,  0.,  0.,  0.,  0.,  0.,  0.,  0.]))\n"
     ]
    }
   ],
   "source": [
    "#003 Create a null vector of size 10\n",
    "a3 = np.zeros(10)\n",
    "print(\"3:\\n\",a3)"
   ]
  }
 ],
 "metadata": {
  "kernelspec": {
   "display_name": "Python 2",
   "language": "python",
   "name": "python2"
  },
  "language_info": {
   "codemirror_mode": {
    "name": "ipython",
    "version": 2
   },
   "file_extension": ".py",
   "mimetype": "text/x-python",
   "name": "python",
   "nbconvert_exporter": "python",
   "pygments_lexer": "ipython2",
   "version": "2.7.12"
  }
 },
 "nbformat": 4,
 "nbformat_minor": 2
}
